{
  "nbformat": 4,
  "nbformat_minor": 0,
  "metadata": {
    "colab": {
      "provenance": []
    },
    "kernelspec": {
      "name": "python3",
      "display_name": "Python 3"
    },
    "language_info": {
      "name": "python"
    }
  },
  "cells": [
    {
      "cell_type": "markdown",
      "source": [
        "**1. Discuss string slicing and provide examples**\n",
        "\n",
        "A)**String slicing:**\n",
        "       string slicing is a technique used to extract a portion of a string .\n",
        "\n",
        "*   It's done by specifying the starting and ending positions of the desired substring within the original string.\n",
        "\n"
      ],
      "metadata": {
        "id": "bWhwxRmXhvs6"
      }
    },
    {
      "cell_type": "code",
      "source": [
        "str1=\"Dharmavarapu Ganeswar\"\n",
        "str1[0:12] #Here 0 is the starting index and 12 is the ending index"
      ],
      "metadata": {
        "colab": {
          "base_uri": "https://localhost:8080/",
          "height": 35
        },
        "id": "176Ng-NEiuAE",
        "outputId": "97df42b1-c80a-47cf-f063-55c6a3c9faba"
      },
      "execution_count": 5,
      "outputs": [
        {
          "output_type": "execute_result",
          "data": {
            "text/plain": [
              "'Dharmavarapu'"
            ],
            "application/vnd.google.colaboratory.intrinsic+json": {
              "type": "string"
            }
          },
          "metadata": {},
          "execution_count": 5
        }
      ]
    },
    {
      "cell_type": "code",
      "source": [
        "str2=\"Viveknanda\"\n",
        "str2[0:10:3] #Here 3 represents the step"
      ],
      "metadata": {
        "colab": {
          "base_uri": "https://localhost:8080/",
          "height": 35
        },
        "id": "wZHDygzBjCtw",
        "outputId": "df853a0c-4c6c-4a60-9949-d59307140c96"
      },
      "execution_count": 7,
      "outputs": [
        {
          "output_type": "execute_result",
          "data": {
            "text/plain": [
              "'Veaa'"
            ],
            "application/vnd.google.colaboratory.intrinsic+json": {
              "type": "string"
            }
          },
          "metadata": {},
          "execution_count": 7
        }
      ]
    },
    {
      "cell_type": "code",
      "source": [
        "#if we want to print the string from backwards , we can follow the following syntax\n",
        "str2[::-1]"
      ],
      "metadata": {
        "colab": {
          "base_uri": "https://localhost:8080/",
          "height": 35
        },
        "id": "5X9FPUZPjq0D",
        "outputId": "d81a2fe1-7dd1-4e2d-cdc3-32d7ec3562aa"
      },
      "execution_count": 9,
      "outputs": [
        {
          "output_type": "execute_result",
          "data": {
            "text/plain": [
              "'adnankeviV'"
            ],
            "application/vnd.google.colaboratory.intrinsic+json": {
              "type": "string"
            }
          },
          "metadata": {},
          "execution_count": 9
        }
      ]
    },
    {
      "cell_type": "markdown",
      "source": [
        "**2) Explain the key features of lists in Python.**\n",
        "\n",
        "A) lists are the ordered collection of objects.\n",
        "\n",
        " **Key features of list :**\n",
        "\n",
        "\n",
        "1. **Ordered:**\n",
        "           lists maintains the order of elements as they are added .\n",
        "\n",
        "\n"
      ],
      "metadata": {
        "id": "hTydB0Mpj60S"
      }
    },
    {
      "cell_type": "code",
      "source": [
        "vegetables=[\"carrot\",\"cabbage\",\"Tomato\",\"onion\",\"Brinjal\",\"Ladys finger\"]\n",
        "vegetables"
      ],
      "metadata": {
        "colab": {
          "base_uri": "https://localhost:8080/"
        },
        "id": "vTs4zIp-lM_U",
        "outputId": "53f67ace-6295-4fae-9f33-a5dc46c045c3"
      },
      "execution_count": 10,
      "outputs": [
        {
          "output_type": "execute_result",
          "data": {
            "text/plain": [
              "['carrot', 'cabbage', 'Tomato', 'onion', 'Brinjal', 'Ladys finger']"
            ]
          },
          "metadata": {},
          "execution_count": 10
        }
      ]
    },
    {
      "cell_type": "markdown",
      "source": [
        "\n",
        "\n",
        "2. **Mutable:**\n",
        "        The values in the list can be changed after created.\n",
        "\n"
      ],
      "metadata": {
        "id": "dnlqeJI4liQ5"
      }
    },
    {
      "cell_type": "code",
      "source": [
        "my_list = [1, 2, 3]\n",
        "my_list"
      ],
      "metadata": {
        "colab": {
          "base_uri": "https://localhost:8080/"
        },
        "id": "U0FNgtb-lwz4",
        "outputId": "205cdb82-6036-40eb-ae0d-aa79a9dc00bc"
      },
      "execution_count": 11,
      "outputs": [
        {
          "output_type": "execute_result",
          "data": {
            "text/plain": [
              "[1, 2, 3]"
            ]
          },
          "metadata": {},
          "execution_count": 11
        }
      ]
    },
    {
      "cell_type": "markdown",
      "source": [
        "3. **Heterogeneous:**\n",
        "         list can store elements of different data types.even list can store other lists of different data types."
      ],
      "metadata": {
        "id": "MeZ2HSzCmH0L"
      }
    },
    {
      "cell_type": "code",
      "source": [
        "a=[\"ganeswar\",\"fruits\",45.678,35,789056,True,False,[\"pwskills\",\"data science\"],\"Data scientist\"]\n",
        "a"
      ],
      "metadata": {
        "colab": {
          "base_uri": "https://localhost:8080/"
        },
        "id": "Uzk6ENlDmnz4",
        "outputId": "56061f4f-af63-4885-cd8f-872777191188"
      },
      "execution_count": 12,
      "outputs": [
        {
          "output_type": "execute_result",
          "data": {
            "text/plain": [
              "['ganeswar',\n",
              " 'fruits',\n",
              " 45.678,\n",
              " 35,\n",
              " 789056,\n",
              " True,\n",
              " False,\n",
              " ['pwskills', 'data science'],\n",
              " 'Data scientist']"
            ]
          },
          "metadata": {},
          "execution_count": 12
        }
      ]
    },
    {
      "cell_type": "markdown",
      "source": [
        "4. **Iterable:**\n",
        "         lists can iterate the elements using for loop just like iterate through the characters of a string using slicing and indexing."
      ],
      "metadata": {
        "id": "Lwy7Qk2knB1n"
      }
    },
    {
      "cell_type": "code",
      "source": [
        "for i in vegetables:\n",
        "  print(i)"
      ],
      "metadata": {
        "colab": {
          "base_uri": "https://localhost:8080/"
        },
        "id": "s7NGgd8TngXj",
        "outputId": "c7e3f725-b5ec-44a0-c13b-55a4ca576f49"
      },
      "execution_count": 13,
      "outputs": [
        {
          "output_type": "stream",
          "name": "stdout",
          "text": [
            "carrot\n",
            "cabbage\n",
            "Tomato\n",
            "onion\n",
            "Brinjal\n",
            "Ladys finger\n"
          ]
        }
      ]
    },
    {
      "cell_type": "markdown",
      "source": [
        "5.**Indexable and slicable:**\n",
        "          \n",
        "    \n",
        "\n",
        "*   We can acess individual elements of a list using their index, starting from 0 for the first element .\n",
        "*   Similar to strings we can extract a portion of a list using slicing.\n",
        "\n"
      ],
      "metadata": {
        "id": "ybtM26-ToG-Q"
      }
    },
    {
      "cell_type": "code",
      "source": [
        "my_list[1]"
      ],
      "metadata": {
        "colab": {
          "base_uri": "https://localhost:8080/"
        },
        "id": "GwJwb5C6pUlK",
        "outputId": "4dca5b3d-e078-48aa-8b7a-0c5d0d028796"
      },
      "execution_count": 14,
      "outputs": [
        {
          "output_type": "execute_result",
          "data": {
            "text/plain": [
              "2"
            ]
          },
          "metadata": {},
          "execution_count": 14
        }
      ]
    },
    {
      "cell_type": "code",
      "source": [
        "my_list[0:3]"
      ],
      "metadata": {
        "colab": {
          "base_uri": "https://localhost:8080/"
        },
        "id": "bWFqmKg5pYI1",
        "outputId": "74c73e45-58c7-4f51-c3b5-6bce8d09e6dc"
      },
      "execution_count": 18,
      "outputs": [
        {
          "output_type": "execute_result",
          "data": {
            "text/plain": [
              "[1, 2, 3]"
            ]
          },
          "metadata": {},
          "execution_count": 18
        }
      ]
    },
    {
      "cell_type": "markdown",
      "source": [
        "6.**Built in Methods:**\n",
        "         Lists come with a variety of built-in methods (functions) for common operations such as append, insert, remove, sort, etc. These make list manipulation easier and more efficient."
      ],
      "metadata": {
        "id": "hE94Xko0pkmk"
      }
    },
    {
      "cell_type": "code",
      "source": [
        "vegetables.sort()\n",
        "vegetables"
      ],
      "metadata": {
        "colab": {
          "base_uri": "https://localhost:8080/"
        },
        "id": "HygkteZxpwQ_",
        "outputId": "343decb8-89d7-44c0-bd53-c793caf30899"
      },
      "execution_count": 20,
      "outputs": [
        {
          "output_type": "execute_result",
          "data": {
            "text/plain": [
              "['Brinjal', 'Ladys finger', 'Tomato', 'cabbage', 'carrot', 'onion']"
            ]
          },
          "metadata": {},
          "execution_count": 20
        }
      ]
    },
    {
      "cell_type": "markdown",
      "source": [
        "**3. Describe how to access, modify, and delete elements in a list with examples.**\n",
        "A.\n",
        "\n",
        "**Accessing of elements in a list:**\n",
        "        \n",
        "         we can access elements in a list using their index starting from 0."
      ],
      "metadata": {
        "id": "j8HoHxQ7p5g6"
      }
    },
    {
      "cell_type": "code",
      "source": [
        "fruits=[\"apple\",\"banana\",\"cherry\",\"date\",\"strawberry\"]\n",
        "fruits[4]"
      ],
      "metadata": {
        "colab": {
          "base_uri": "https://localhost:8080/",
          "height": 35
        },
        "id": "C-0d2MzUqkKI",
        "outputId": "0b16d6f1-0158-48e1-c57f-30c047c0860c"
      },
      "execution_count": 22,
      "outputs": [
        {
          "output_type": "execute_result",
          "data": {
            "text/plain": [
              "'strawberry'"
            ],
            "application/vnd.google.colaboratory.intrinsic+json": {
              "type": "string"
            }
          },
          "metadata": {},
          "execution_count": 22
        }
      ]
    },
    {
      "cell_type": "markdown",
      "source": [
        "2. **Modify elements in a list:**\n",
        "           We can change the value of an element by assigning a new value to the index."
      ],
      "metadata": {
        "id": "2m-OXtSTq3Xt"
      }
    },
    {
      "cell_type": "code",
      "source": [
        "fruits=[\"apple\",\"banana\",\"cherry\",\"date\",\"strawberry\"]\n",
        "fruits[2]=\"kiwi\"\n",
        "fruits"
      ],
      "metadata": {
        "colab": {
          "base_uri": "https://localhost:8080/"
        },
        "id": "-h7BEFIurrqN",
        "outputId": "ee45b508-cdc7-4c36-fc6c-c01ea5243147"
      },
      "execution_count": 31,
      "outputs": [
        {
          "output_type": "execute_result",
          "data": {
            "text/plain": [
              "['apple', 'banana', 'kiwi', 'date', 'strawberry']"
            ]
          },
          "metadata": {},
          "execution_count": 31
        }
      ]
    },
    {
      "cell_type": "markdown",
      "source": [
        "3. **Deleting elements:**\n",
        "       There are several ways to delete elements from a list.\n",
        "\n",
        "*   **del:**\n",
        "This removes an element at a specific index\n",
        "\n"
      ],
      "metadata": {
        "id": "bXKQ1rNgrwV3"
      }
    },
    {
      "cell_type": "code",
      "source": [
        "del fruits[3] # if we not specify index , it deletes the entire list by default.\n",
        "fruits"
      ],
      "metadata": {
        "colab": {
          "base_uri": "https://localhost:8080/"
        },
        "id": "oFc-Lrg7sl93",
        "outputId": "fbbf088f-0f2d-4865-9009-f01cf3170f4d"
      },
      "execution_count": 33,
      "outputs": [
        {
          "output_type": "execute_result",
          "data": {
            "text/plain": [
              "['apple', 'banana', 'kiwi', 'strawberry']"
            ]
          },
          "metadata": {},
          "execution_count": 33
        }
      ]
    },
    {
      "cell_type": "markdown",
      "source": [
        "**remove():**\n",
        " This removess the first occurence of a specified value."
      ],
      "metadata": {
        "id": "XBW66d9Ts-pv"
      }
    },
    {
      "cell_type": "code",
      "source": [
        "fruits.remove(\"banana\")\n",
        "fruits"
      ],
      "metadata": {
        "colab": {
          "base_uri": "https://localhost:8080/"
        },
        "id": "zcxbr40wtRB_",
        "outputId": "6ed34c2d-6320-44d5-8cb2-9d29825a11eb"
      },
      "execution_count": 34,
      "outputs": [
        {
          "output_type": "execute_result",
          "data": {
            "text/plain": [
              "['apple', 'kiwi', 'strawberry']"
            ]
          },
          "metadata": {},
          "execution_count": 34
        }
      ]
    },
    {
      "cell_type": "markdown",
      "source": [
        "**pop() method:**\n",
        "This method removes and returns the element at a specific index. By default it removes the last index if index is not specified."
      ],
      "metadata": {
        "id": "BkuaHZ6ovEZ9"
      }
    },
    {
      "cell_type": "code",
      "source": [
        "fruits.pop(1)\n"
      ],
      "metadata": {
        "colab": {
          "base_uri": "https://localhost:8080/",
          "height": 35
        },
        "id": "yhmcn49vva99",
        "outputId": "a080ffa0-4f10-4db9-9c4d-9d286f8971e7"
      },
      "execution_count": 35,
      "outputs": [
        {
          "output_type": "execute_result",
          "data": {
            "text/plain": [
              "'kiwi'"
            ],
            "application/vnd.google.colaboratory.intrinsic+json": {
              "type": "string"
            }
          },
          "metadata": {},
          "execution_count": 35
        }
      ]
    },
    {
      "cell_type": "code",
      "source": [
        "fruits"
      ],
      "metadata": {
        "colab": {
          "base_uri": "https://localhost:8080/"
        },
        "id": "sCWsh9Q5vfRB",
        "outputId": "bf485013-748b-45cb-e8f5-ac0430ed0fb7"
      },
      "execution_count": 36,
      "outputs": [
        {
          "output_type": "execute_result",
          "data": {
            "text/plain": [
              "['apple', 'strawberry']"
            ]
          },
          "metadata": {},
          "execution_count": 36
        }
      ]
    },
    {
      "cell_type": "markdown",
      "source": [
        "**4. Compare and contrast tuples and lists with examples.**\n",
        "\n",
        "**Lists**:\n",
        "\n",
        "**Mutable:**\n",
        "\n",
        "Lists are mutable, meaning you can change their contents after they are created. You can add, remove, or modify elements.\n",
        "\n",
        "**Defined with square brackets:**\n",
        "\n",
        "my_list = [1, 2, 3]\n",
        "\n",
        "**Methods:**\n",
        "\n",
        " Lists have built-in methods for various operations like append, insert, remove, sort, etc."
      ],
      "metadata": {
        "id": "RKtYGoHcvljE"
      }
    },
    {
      "cell_type": "code",
      "source": [
        "x=[1,2,3]\n",
        "x.append(4)\n",
        "x[0]=567\n",
        "x"
      ],
      "metadata": {
        "colab": {
          "base_uri": "https://localhost:8080/"
        },
        "id": "TRF8ymbTwbfQ",
        "outputId": "3519c33a-7fe4-4c04-d015-cef72c67579e"
      },
      "execution_count": 38,
      "outputs": [
        {
          "output_type": "execute_result",
          "data": {
            "text/plain": [
              "[567, 2, 3, 4]"
            ]
          },
          "metadata": {},
          "execution_count": 38
        }
      ]
    },
    {
      "cell_type": "markdown",
      "source": [
        "**Tuples:**\n",
        "\n",
        "**Immutable:**\n",
        "\n",
        "Tuples are immutable, meaning you cannot change their contents once they are created.\n",
        "\n",
        "**Defined with parentheses:**\n",
        "\n",
        " my_tuple = (1, 2, 3)\n",
        "\n",
        "**Limited methods:**\n",
        "\n",
        "Tuples have fewer built-in methods compared to lists, mainly for accessing elements."
      ],
      "metadata": {
        "id": "j6V74W68wnaO"
      }
    },
    {
      "cell_type": "code",
      "source": [
        "tuple=(1,2,3)\n",
        "tuple[2]"
      ],
      "metadata": {
        "colab": {
          "base_uri": "https://localhost:8080/"
        },
        "id": "UY1JKpoUxCHu",
        "outputId": "d6f0f31f-3cb4-443d-92ac-bda21d005613"
      },
      "execution_count": 39,
      "outputs": [
        {
          "output_type": "execute_result",
          "data": {
            "text/plain": [
              "3"
            ]
          },
          "metadata": {},
          "execution_count": 39
        }
      ]
    },
    {
      "cell_type": "markdown",
      "source": [
        "**5. Describe the key features of sets and provide examples of their use.**\n",
        "\n",
        "**Key Features of Sets:**\n",
        "\n",
        "Unordered: Sets are unordered collections of unique elements. This means that the elements are not stored in any specific order, and duplicates are automatically removed.\n",
        "\n",
        "**Mutable:**\n",
        "\n",
        "Sets are mutable, meaning you can add or remove elements after they are created. However, you cannot modify existing elements directly.\n",
        "\n",
        "**Unique Elements:**\n",
        "\n",
        "Sets only store unique elements. If you try to add a duplicate element, it will be ignored. This property makes sets useful for tasks like removing duplicates from a list.\n",
        "\n",
        "**Defined with curly braces:**\n",
        "\n",
        " Sets are defined using curly braces {} or the set() constructor. For example: my_set = {1, 2, 3} or my_set = set([1, 2, 3]).\n",
        "\n",
        "**Set Operations:**\n",
        "\n",
        "Sets support various set operations such as union, intersection, difference, and more. These operations allow you to combine and manipulate sets in powerful ways."
      ],
      "metadata": {
        "id": "KAhMQDO5yCpa"
      }
    },
    {
      "cell_type": "code",
      "source": [
        "#Removing duplicates\n",
        "my_list = {1, 2, 2, 3, 3, 3}\n",
        "my_list"
      ],
      "metadata": {
        "colab": {
          "base_uri": "https://localhost:8080/"
        },
        "id": "5WZMxlAsysr6",
        "outputId": "055ba32c-c6b1-474e-f053-1a143bf827e3"
      },
      "execution_count": 41,
      "outputs": [
        {
          "output_type": "execute_result",
          "data": {
            "text/plain": [
              "{1, 2, 3}"
            ]
          },
          "metadata": {},
          "execution_count": 41
        }
      ]
    },
    {
      "cell_type": "code",
      "source": [
        "#Membership operator\n",
        "my_list={1,2,3,4,5,6}\n",
        "5 in my_list"
      ],
      "metadata": {
        "colab": {
          "base_uri": "https://localhost:8080/"
        },
        "id": "ncJhjJGny7id",
        "outputId": "a106f4eb-8be1-4a88-a6fc-f7ca4938c719"
      },
      "execution_count": 42,
      "outputs": [
        {
          "output_type": "execute_result",
          "data": {
            "text/plain": [
              "True"
            ]
          },
          "metadata": {},
          "execution_count": 42
        }
      ]
    },
    {
      "cell_type": "code",
      "source": [
        "#set operations\n",
        "set1={1,2,3,4,5}\n",
        "set2={4,5,6,7,8}\n",
        "set1|set2  #union of set1 and set2"
      ],
      "metadata": {
        "colab": {
          "base_uri": "https://localhost:8080/"
        },
        "id": "d5pO-fR4zIwi",
        "outputId": "48ce9c9b-6c45-41e3-c445-fe564f8c4a58"
      },
      "execution_count": 43,
      "outputs": [
        {
          "output_type": "execute_result",
          "data": {
            "text/plain": [
              "{1, 2, 3, 4, 5, 6, 7, 8}"
            ]
          },
          "metadata": {},
          "execution_count": 43
        }
      ]
    },
    {
      "cell_type": "markdown",
      "source": [
        "**6. Discuss the use cases of tuples and sets in Python programming.**\n",
        "\n",
        "**Tuples: Use Cases**\n",
        "\n",
        "**Representing Data Records:**\n",
        "\n",
        " Tuples are often used to represent data records or structures where the elements have a specific meaning and order. For example, you can use a tuple to store a person's name, age, and address.\n"
      ],
      "metadata": {
        "id": "Q-2rEUZwza3i"
      }
    },
    {
      "cell_type": "code",
      "source": [
        "person = (\"Alice\", 30, \"123 Main St\")\n",
        "person"
      ],
      "metadata": {
        "colab": {
          "base_uri": "https://localhost:8080/"
        },
        "id": "irg-aHHjz0Un",
        "outputId": "c931e75f-847d-4378-f0ac-9817a09cb0f3"
      },
      "execution_count": 44,
      "outputs": [
        {
          "output_type": "execute_result",
          "data": {
            "text/plain": [
              "('Alice', 30, '123 Main St')"
            ]
          },
          "metadata": {},
          "execution_count": 44
        }
      ]
    },
    {
      "cell_type": "markdown",
      "source": [
        "**Sets: Use Cases**\n",
        "\n",
        "**Removing Duplicates:**\n",
        "\n",
        "Sets are excellent for eliminating duplicate elements from a list or other collection due to their inherent uniqueness property."
      ],
      "metadata": {
        "id": "QARUpg250eYr"
      }
    },
    {
      "cell_type": "code",
      "source": [
        "my_list = {1, 2, 2, 3, 3, 3}\n",
        "my_list"
      ],
      "metadata": {
        "colab": {
          "base_uri": "https://localhost:8080/"
        },
        "id": "j05vS1EX0lOo",
        "outputId": "668d7127-3f69-42e5-cc09-39732a0f3ad6"
      },
      "execution_count": 49,
      "outputs": [
        {
          "output_type": "execute_result",
          "data": {
            "text/plain": [
              "{1, 2, 3}"
            ]
          },
          "metadata": {},
          "execution_count": 49
        }
      ]
    },
    {
      "cell_type": "markdown",
      "source": [
        "**Mathematical Set Operations:**\n",
        "\n",
        "Sets support various mathematical set operations like union, intersection, difference, and more. This makes them useful for tasks involving set theory or data manipulation.\n",
        "\n",
        "**Data Validation:**\n",
        "\n",
        " Sets can be used to validate data by checking if elements belong to a specific set of allowed values.\n",
        "\n",
        "**Finding Unique Items:**\n",
        "\n",
        "Sets can be used to identify unique elements in a collection or compare different collections for common or distinct elements."
      ],
      "metadata": {
        "id": "5mLQvNq60ujT"
      }
    },
    {
      "cell_type": "markdown",
      "source": [
        "**7.Describe how to add, modify, and delete items in a dictionary with examples.**\n",
        "\n",
        "**Adding Items:**\n",
        "\n",
        "You can add new key-value pairs to a dictionary using the following methods:\n",
        "\n",
        "**Direct Assignment:** Assign a value to a new key using the assignment operator (=). If the key doesn't exist, it will be created."
      ],
      "metadata": {
        "id": "HdUPq3IM1M_W"
      }
    },
    {
      "cell_type": "code",
      "source": [
        "my_dict = {\"name\": \"Alice\", \"age\": 30}\n",
        "my_dict[\"city\"] = \"New York\"  # Add a new key-value pair\n",
        "print(my_dict)"
      ],
      "metadata": {
        "colab": {
          "base_uri": "https://localhost:8080/"
        },
        "id": "2NLaORyP1tRP",
        "outputId": "d21246d6-945a-4f51-e7b0-4e666917758b"
      },
      "execution_count": 50,
      "outputs": [
        {
          "output_type": "stream",
          "name": "stdout",
          "text": [
            "{'name': 'Alice', 'age': 30, 'city': 'New York'}\n"
          ]
        }
      ]
    },
    {
      "cell_type": "markdown",
      "source": [
        "**update() method:**\n",
        "\n",
        "Use the update() method to add multiple key-value pairs from another dictionary or an iterable of key-value pairs"
      ],
      "metadata": {
        "id": "-B4JzXjK1yDi"
      }
    },
    {
      "cell_type": "code",
      "source": [
        "my_dict = {\"name\": \"Alice\", \"age\": 30}\n",
        "my_dict.update({\"city\": \"New York\", \"country\": \"USA\"})\n",
        "print(my_dict)"
      ],
      "metadata": {
        "colab": {
          "base_uri": "https://localhost:8080/"
        },
        "id": "b4R-Sguj13nG",
        "outputId": "ca086a17-d615-4c88-9834-c83f11b45250"
      },
      "execution_count": 51,
      "outputs": [
        {
          "output_type": "stream",
          "name": "stdout",
          "text": [
            "{'name': 'Alice', 'age': 30, 'city': 'New York', 'country': 'USA'}\n"
          ]
        }
      ]
    },
    {
      "cell_type": "markdown",
      "source": [
        "**Deleting Items:**\n",
        "\n",
        "There are several ways to delete items from a dictionary:\n",
        "\n",
        "**del keyword:**\n",
        "Use the del keyword followed by the dictionary and the key to delete a specific key-value pair."
      ],
      "metadata": {
        "id": "z2xjWRhu17f_"
      }
    },
    {
      "cell_type": "code",
      "source": [
        "my_dict = {\"name\": \"Alice\", \"age\": 30, \"city\": \"New York\"}\n",
        "del my_dict[\"city\"]\n",
        "print(my_dict)"
      ],
      "metadata": {
        "id": "4Ga1B9ch2EmN"
      },
      "execution_count": null,
      "outputs": []
    },
    {
      "cell_type": "markdown",
      "source": [
        "**pop() method:**\n",
        "The pop() method removes and returns the value associated with a specified key. If the key is not found, it raises a KeyError unless a default value is provided."
      ],
      "metadata": {
        "id": "WAxxQafQ2LfV"
      }
    },
    {
      "cell_type": "code",
      "source": [
        "my_dict = {\"name\": \"Alice\", \"age\": 30}\n",
        "age = my_dict.pop(\"age\")  # Remove and return the value of \"age\"\n",
        "print(age)\n",
        "print(my_dict)"
      ],
      "metadata": {
        "colab": {
          "base_uri": "https://localhost:8080/"
        },
        "id": "ajuDsM542PxH",
        "outputId": "c538a174-4fa1-407a-997b-6b17052a398e"
      },
      "execution_count": 52,
      "outputs": [
        {
          "output_type": "stream",
          "name": "stdout",
          "text": [
            "30\n",
            "{'name': 'Alice'}\n"
          ]
        }
      ]
    },
    {
      "cell_type": "markdown",
      "source": [
        "**clear() method:** The clear() method removes all key-value pairs from the dictionary, leaving it empty."
      ],
      "metadata": {
        "id": "GnTxG2mj2aLy"
      }
    },
    {
      "cell_type": "code",
      "source": [
        "my_dict = {\"name\": \"Alice\", \"age\": 30}\n",
        "my_dict.clear()  # Remove all items\n",
        "print(my_dict)"
      ],
      "metadata": {
        "colab": {
          "base_uri": "https://localhost:8080/"
        },
        "id": "pb1jxbJ-2ddp",
        "outputId": "64691bd7-79a9-4bad-c1bc-e17a877ad919"
      },
      "execution_count": 53,
      "outputs": [
        {
          "output_type": "stream",
          "name": "stdout",
          "text": [
            "{}\n"
          ]
        }
      ]
    },
    {
      "cell_type": "markdown",
      "source": [
        "**8.Discuss the importance of dictionary keys being immutable and provide examples**\n",
        "\n",
        "\n",
        "\n",
        "* Dictionary keys in Python must be immutable to maintain data integrity, ensure efficient lookup, and provide predictable behavior.\n",
        "* Immutable objects like strings, numbers, and tuples can be used as dictionary keys.\n",
        "\n",
        "*  Mutable objects like lists and dictionaries cannot be used as dictionary keys.\n",
        "\n",
        "\n",
        "\n",
        "\n"
      ],
      "metadata": {
        "id": "N2O_7W5B2j-F"
      }
    },
    {
      "cell_type": "code",
      "source": [
        "my_dict = {(1, 2): \"value\"}  # Using a tuple as a key (this is valid)\n",
        "print(my_dict[(1, 2)])"
      ],
      "metadata": {
        "colab": {
          "base_uri": "https://localhost:8080/"
        },
        "id": "Er3X0qYe3I5m",
        "outputId": "75b6de48-c156-4c17-c369-04ffc8c2a6a6"
      },
      "execution_count": 54,
      "outputs": [
        {
          "output_type": "stream",
          "name": "stdout",
          "text": [
            "value\n"
          ]
        }
      ]
    },
    {
      "cell_type": "code",
      "source": [
        "my_dict = {[1, 2]: \"value\"}  # Using a list as a key (this will raise an error)"
      ],
      "metadata": {
        "colab": {
          "base_uri": "https://localhost:8080/",
          "height": 141
        },
        "id": "MZUxxEAd3NcS",
        "outputId": "49a65584-3340-4564-b206-86013e473b00"
      },
      "execution_count": 55,
      "outputs": [
        {
          "output_type": "error",
          "ename": "TypeError",
          "evalue": "unhashable type: 'list'",
          "traceback": [
            "\u001b[0;31m---------------------------------------------------------------------------\u001b[0m",
            "\u001b[0;31mTypeError\u001b[0m                                 Traceback (most recent call last)",
            "\u001b[0;32m<ipython-input-55-1f0e7b776e43>\u001b[0m in \u001b[0;36m<cell line: 1>\u001b[0;34m()\u001b[0m\n\u001b[0;32m----> 1\u001b[0;31m \u001b[0mmy_dict\u001b[0m \u001b[0;34m=\u001b[0m \u001b[0;34m{\u001b[0m\u001b[0;34m[\u001b[0m\u001b[0;36m1\u001b[0m\u001b[0;34m,\u001b[0m \u001b[0;36m2\u001b[0m\u001b[0;34m]\u001b[0m\u001b[0;34m:\u001b[0m \u001b[0;34m\"value\"\u001b[0m\u001b[0;34m}\u001b[0m  \u001b[0;31m# Using a list as a key (this will raise an error)\u001b[0m\u001b[0;34m\u001b[0m\u001b[0;34m\u001b[0m\u001b[0m\n\u001b[0m",
            "\u001b[0;31mTypeError\u001b[0m: unhashable type: 'list'"
          ]
        }
      ]
    }
  ]
}